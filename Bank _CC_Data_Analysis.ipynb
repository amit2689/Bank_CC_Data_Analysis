{
 "cells": [
  {
   "cell_type": "code",
   "execution_count": 1,
   "id": "c2116cdc",
   "metadata": {},
   "outputs": [],
   "source": [
    "# Importing necessary libraries\n",
    "import pandas as pd\n",
    "import numpy as np\n",
    "import matplotlib.pyplot as plt\n",
    "import seaborn as sns"
   ]
  },
  {
   "cell_type": "code",
   "execution_count": 2,
   "id": "e1a56cd9",
   "metadata": {},
   "outputs": [
    {
     "data": {
      "text/html": [
       "<div>\n",
       "<style scoped>\n",
       "    .dataframe tbody tr th:only-of-type {\n",
       "        vertical-align: middle;\n",
       "    }\n",
       "\n",
       "    .dataframe tbody tr th {\n",
       "        vertical-align: top;\n",
       "    }\n",
       "\n",
       "    .dataframe thead th {\n",
       "        text-align: right;\n",
       "    }\n",
       "</style>\n",
       "<table border=\"1\" class=\"dataframe\">\n",
       "  <thead>\n",
       "    <tr style=\"text-align: right;\">\n",
       "      <th></th>\n",
       "      <th>Sl No:</th>\n",
       "      <th>Customer</th>\n",
       "      <th>Segment</th>\n",
       "      <th>Product</th>\n",
       "      <th>Date</th>\n",
       "      <th>Type</th>\n",
       "      <th>Amount spent</th>\n",
       "      <th>Amount repaid</th>\n",
       "    </tr>\n",
       "  </thead>\n",
       "  <tbody>\n",
       "    <tr>\n",
       "      <th>0</th>\n",
       "      <td>1</td>\n",
       "      <td>A1</td>\n",
       "      <td>Self Employed</td>\n",
       "      <td>Gold</td>\n",
       "      <td>2004-01-12</td>\n",
       "      <td>JEWELLERY</td>\n",
       "      <td>485470.80</td>\n",
       "      <td>495414.75</td>\n",
       "    </tr>\n",
       "    <tr>\n",
       "      <th>1</th>\n",
       "      <td>2</td>\n",
       "      <td>A1</td>\n",
       "      <td>Self Employed</td>\n",
       "      <td>Gold</td>\n",
       "      <td>2004-01-03</td>\n",
       "      <td>FUEL</td>\n",
       "      <td>410556.13</td>\n",
       "      <td>245899.02</td>\n",
       "    </tr>\n",
       "    <tr>\n",
       "      <th>2</th>\n",
       "      <td>3</td>\n",
       "      <td>A1</td>\n",
       "      <td>Self Employed</td>\n",
       "      <td>Gold</td>\n",
       "      <td>2004-01-15</td>\n",
       "      <td>CLOTHES</td>\n",
       "      <td>23740.46</td>\n",
       "      <td>259490.06</td>\n",
       "    </tr>\n",
       "    <tr>\n",
       "      <th>3</th>\n",
       "      <td>4</td>\n",
       "      <td>A1</td>\n",
       "      <td>Self Employed</td>\n",
       "      <td>Gold</td>\n",
       "      <td>2004-01-25</td>\n",
       "      <td>FOOD</td>\n",
       "      <td>484342.47</td>\n",
       "      <td>437555.12</td>\n",
       "    </tr>\n",
       "    <tr>\n",
       "      <th>4</th>\n",
       "      <td>5</td>\n",
       "      <td>A1</td>\n",
       "      <td>Self Employed</td>\n",
       "      <td>Gold</td>\n",
       "      <td>2005-01-17</td>\n",
       "      <td>CAMERA</td>\n",
       "      <td>369694.07</td>\n",
       "      <td>165972.88</td>\n",
       "    </tr>\n",
       "  </tbody>\n",
       "</table>\n",
       "</div>"
      ],
      "text/plain": [
       "   Sl No: Customer        Segment Product       Date       Type  Amount spent  \\\n",
       "0       1       A1  Self Employed    Gold 2004-01-12  JEWELLERY     485470.80   \n",
       "1       2       A1  Self Employed    Gold 2004-01-03       FUEL     410556.13   \n",
       "2       3       A1  Self Employed    Gold 2004-01-15    CLOTHES      23740.46   \n",
       "3       4       A1  Self Employed    Gold 2004-01-25       FOOD     484342.47   \n",
       "4       5       A1  Self Employed    Gold 2005-01-17     CAMERA     369694.07   \n",
       "\n",
       "   Amount repaid  \n",
       "0      495414.75  \n",
       "1      245899.02  \n",
       "2      259490.06  \n",
       "3      437555.12  \n",
       "4      165972.88  "
      ]
     },
     "execution_count": 2,
     "metadata": {},
     "output_type": "execute_result"
    }
   ],
   "source": [
    "# Loading & Reading the dataset\n",
    "df = pd.read_excel('CC_expenditure.xlsx')\n",
    "df.head()"
   ]
  },
  {
   "cell_type": "markdown",
   "id": "3b884b6e",
   "metadata": {},
   "source": [
    "## Data Analysis"
   ]
  },
  {
   "cell_type": "code",
   "execution_count": 3,
   "id": "72047381",
   "metadata": {},
   "outputs": [
    {
     "name": "stdout",
     "output_type": "stream",
     "text": [
      "<class 'pandas.core.frame.DataFrame'>\n",
      "RangeIndex: 1500 entries, 0 to 1499\n",
      "Data columns (total 8 columns):\n",
      " #   Column         Non-Null Count  Dtype         \n",
      "---  ------         --------------  -----         \n",
      " 0   Sl No:         1500 non-null   int64         \n",
      " 1   Customer       1500 non-null   object        \n",
      " 2   Segment        1500 non-null   object        \n",
      " 3   Product        1500 non-null   object        \n",
      " 4   Date           1500 non-null   datetime64[ns]\n",
      " 5   Type           1500 non-null   object        \n",
      " 6   Amount spent   1500 non-null   float64       \n",
      " 7   Amount repaid  1500 non-null   float64       \n",
      "dtypes: datetime64[ns](1), float64(2), int64(1), object(4)\n",
      "memory usage: 93.9+ KB\n"
     ]
    }
   ],
   "source": [
    "# By the below function we can understand the datatypes of the variables.\n",
    "df.info()"
   ]
  },
  {
   "cell_type": "code",
   "execution_count": 4,
   "id": "8d3142e2",
   "metadata": {},
   "outputs": [
    {
     "data": {
      "text/plain": [
       "Sl No:           0\n",
       "Customer         0\n",
       "Segment          0\n",
       "Product          0\n",
       "Date             0\n",
       "Type             0\n",
       "Amount spent     0\n",
       "Amount repaid    0\n",
       "dtype: int64"
      ]
     },
     "execution_count": 4,
     "metadata": {},
     "output_type": "execute_result"
    }
   ],
   "source": [
    "# Checking if there are any Null values in the dataset.\n",
    "df.isnull().sum()"
   ]
  },
  {
   "cell_type": "code",
   "execution_count": 5,
   "id": "1d23631b",
   "metadata": {},
   "outputs": [
    {
     "data": {
      "text/plain": [
       "0"
      ]
     },
     "execution_count": 5,
     "metadata": {},
     "output_type": "execute_result"
    }
   ],
   "source": [
    "# Checking if there are any Duplicate values in the data set.\n",
    "df.duplicated().sum()"
   ]
  },
  {
   "cell_type": "code",
   "execution_count": 6,
   "id": "9174b694",
   "metadata": {},
   "outputs": [
    {
     "data": {
      "text/plain": [
       "Sl No:           1500\n",
       "Customer          100\n",
       "Segment             5\n",
       "Product             3\n",
       "Date               74\n",
       "Type               15\n",
       "Amount spent     1500\n",
       "Amount repaid    1500\n",
       "dtype: int64"
      ]
     },
     "execution_count": 6,
     "metadata": {},
     "output_type": "execute_result"
    }
   ],
   "source": [
    "# This function would help us the to see the no of unique values in the variable.\n",
    "df.nunique()"
   ]
  },
  {
   "cell_type": "code",
   "execution_count": 7,
   "id": "f0747926",
   "metadata": {},
   "outputs": [
    {
     "data": {
      "text/html": [
       "<div>\n",
       "<style scoped>\n",
       "    .dataframe tbody tr th:only-of-type {\n",
       "        vertical-align: middle;\n",
       "    }\n",
       "\n",
       "    .dataframe tbody tr th {\n",
       "        vertical-align: top;\n",
       "    }\n",
       "\n",
       "    .dataframe thead th {\n",
       "        text-align: right;\n",
       "    }\n",
       "</style>\n",
       "<table border=\"1\" class=\"dataframe\">\n",
       "  <thead>\n",
       "    <tr style=\"text-align: right;\">\n",
       "      <th></th>\n",
       "      <th>Sl No:</th>\n",
       "      <th>Amount spent</th>\n",
       "      <th>Amount repaid</th>\n",
       "    </tr>\n",
       "  </thead>\n",
       "  <tbody>\n",
       "    <tr>\n",
       "      <th>count</th>\n",
       "      <td>1500.000000</td>\n",
       "      <td>1500.000000</td>\n",
       "      <td>1500.000000</td>\n",
       "    </tr>\n",
       "    <tr>\n",
       "      <th>mean</th>\n",
       "      <td>750.500000</td>\n",
       "      <td>243096.049460</td>\n",
       "      <td>247890.054420</td>\n",
       "    </tr>\n",
       "    <tr>\n",
       "      <th>std</th>\n",
       "      <td>433.157015</td>\n",
       "      <td>141349.547367</td>\n",
       "      <td>145290.382733</td>\n",
       "    </tr>\n",
       "    <tr>\n",
       "      <th>min</th>\n",
       "      <td>1.000000</td>\n",
       "      <td>720.300000</td>\n",
       "      <td>55.860000</td>\n",
       "    </tr>\n",
       "    <tr>\n",
       "      <th>25%</th>\n",
       "      <td>375.750000</td>\n",
       "      <td>122606.487500</td>\n",
       "      <td>118604.905000</td>\n",
       "    </tr>\n",
       "    <tr>\n",
       "      <th>50%</th>\n",
       "      <td>750.500000</td>\n",
       "      <td>239210.360000</td>\n",
       "      <td>248008.185000</td>\n",
       "    </tr>\n",
       "    <tr>\n",
       "      <th>75%</th>\n",
       "      <td>1125.250000</td>\n",
       "      <td>361617.632500</td>\n",
       "      <td>367236.890000</td>\n",
       "    </tr>\n",
       "    <tr>\n",
       "      <th>max</th>\n",
       "      <td>1500.000000</td>\n",
       "      <td>499793.490000</td>\n",
       "      <td>499930.660000</td>\n",
       "    </tr>\n",
       "  </tbody>\n",
       "</table>\n",
       "</div>"
      ],
      "text/plain": [
       "            Sl No:   Amount spent  Amount repaid\n",
       "count  1500.000000    1500.000000    1500.000000\n",
       "mean    750.500000  243096.049460  247890.054420\n",
       "std     433.157015  141349.547367  145290.382733\n",
       "min       1.000000     720.300000      55.860000\n",
       "25%     375.750000  122606.487500  118604.905000\n",
       "50%     750.500000  239210.360000  248008.185000\n",
       "75%    1125.250000  361617.632500  367236.890000\n",
       "max    1500.000000  499793.490000  499930.660000"
      ]
     },
     "execution_count": 7,
     "metadata": {},
     "output_type": "execute_result"
    }
   ],
   "source": [
    "# With this function we can see the Statistical summary of the data set for Numeric variables.\n",
    "df.describe()"
   ]
  },
  {
   "cell_type": "code",
   "execution_count": 8,
   "id": "e8687937",
   "metadata": {},
   "outputs": [
    {
     "data": {
      "text/html": [
       "<div>\n",
       "<style scoped>\n",
       "    .dataframe tbody tr th:only-of-type {\n",
       "        vertical-align: middle;\n",
       "    }\n",
       "\n",
       "    .dataframe tbody tr th {\n",
       "        vertical-align: top;\n",
       "    }\n",
       "\n",
       "    .dataframe thead th {\n",
       "        text-align: right;\n",
       "    }\n",
       "</style>\n",
       "<table border=\"1\" class=\"dataframe\">\n",
       "  <thead>\n",
       "    <tr style=\"text-align: right;\">\n",
       "      <th></th>\n",
       "      <th>Customer</th>\n",
       "      <th>Segment</th>\n",
       "      <th>Product</th>\n",
       "      <th>Type</th>\n",
       "    </tr>\n",
       "  </thead>\n",
       "  <tbody>\n",
       "    <tr>\n",
       "      <th>count</th>\n",
       "      <td>1500</td>\n",
       "      <td>1500</td>\n",
       "      <td>1500</td>\n",
       "      <td>1500</td>\n",
       "    </tr>\n",
       "    <tr>\n",
       "      <th>unique</th>\n",
       "      <td>100</td>\n",
       "      <td>5</td>\n",
       "      <td>3</td>\n",
       "      <td>15</td>\n",
       "    </tr>\n",
       "    <tr>\n",
       "      <th>top</th>\n",
       "      <td>A61</td>\n",
       "      <td>Normal Salary</td>\n",
       "      <td>Gold</td>\n",
       "      <td>FUEL</td>\n",
       "    </tr>\n",
       "    <tr>\n",
       "      <th>freq</th>\n",
       "      <td>38</td>\n",
       "      <td>441</td>\n",
       "      <td>610</td>\n",
       "      <td>200</td>\n",
       "    </tr>\n",
       "  </tbody>\n",
       "</table>\n",
       "</div>"
      ],
      "text/plain": [
       "       Customer        Segment Product  Type\n",
       "count      1500           1500    1500  1500\n",
       "unique      100              5       3    15\n",
       "top         A61  Normal Salary    Gold  FUEL\n",
       "freq         38            441     610   200"
      ]
     },
     "execution_count": 8,
     "metadata": {},
     "output_type": "execute_result"
    }
   ],
   "source": [
    "# With this function we can see the Statistical summary of the data set for Categorical variables\n",
    "df.describe(include='object')"
   ]
  },
  {
   "cell_type": "code",
   "execution_count": 9,
   "id": "d4109e34",
   "metadata": {},
   "outputs": [
    {
     "data": {
      "image/png": "[encoded data removed]",
      "text/plain": [
       "<Figure size 640x480 with 1 Axes>"
      ]
     },
     "metadata": {},
     "output_type": "display_data"
    }
   ],
   "source": [
    "# With this function we can Visually see Segment wise Statistical Summary for Categorical variables.\n",
    "plt.pie(df['Segment'].value_counts(), labels = df['Segment'].unique(), autopct='%0.1f%%');"
   ]
  },
  {
   "cell_type": "code",
   "execution_count": 10,
   "id": "7ee2f621",
   "metadata": {},
   "outputs": [
    {
     "data": {
      "text/plain": [
       "(1500, 8)"
      ]
     },
     "execution_count": 10,
     "metadata": {},
     "output_type": "execute_result"
    }
   ],
   "source": [
    "# Looking at the shape of the Data Set.\n",
    "df.shape"
   ]
  },
  {
   "cell_type": "markdown",
   "id": "756641d6",
   "metadata": {},
   "source": [
    "## Data Mining"
   ]
  },
  {
   "cell_type": "markdown",
   "id": "2c2a8ec2",
   "metadata": {},
   "source": [
    "1. Extract the month and year from the Date column using appropriate functions. "
   ]
  },
  {
   "cell_type": "code",
   "execution_count": 11,
   "id": "e499a723",
   "metadata": {},
   "outputs": [],
   "source": [
    "df['Month']=df['Date'].dt.month_name()\n",
    "df['Order_Month']= df['Date'].dt.month\n",
    "df['Year']=df['Date'].dt.year"
   ]
  },
  {
   "cell_type": "code",
   "execution_count": 12,
   "id": "62085092",
   "metadata": {},
   "outputs": [
    {
     "data": {
      "text/html": [
       "<div>\n",
       "<style scoped>\n",
       "    .dataframe tbody tr th:only-of-type {\n",
       "        vertical-align: middle;\n",
       "    }\n",
       "\n",
       "    .dataframe tbody tr th {\n",
       "        vertical-align: top;\n",
       "    }\n",
       "\n",
       "    .dataframe thead th {\n",
       "        text-align: right;\n",
       "    }\n",
       "</style>\n",
       "<table border=\"1\" class=\"dataframe\">\n",
       "  <thead>\n",
       "    <tr style=\"text-align: right;\">\n",
       "      <th></th>\n",
       "      <th>Sl No:</th>\n",
       "      <th>Customer</th>\n",
       "      <th>Segment</th>\n",
       "      <th>Product</th>\n",
       "      <th>Date</th>\n",
       "      <th>Type</th>\n",
       "      <th>Amount spent</th>\n",
       "      <th>Amount repaid</th>\n",
       "      <th>Month</th>\n",
       "      <th>Order_Month</th>\n",
       "      <th>Year</th>\n",
       "    </tr>\n",
       "  </thead>\n",
       "  <tbody>\n",
       "    <tr>\n",
       "      <th>0</th>\n",
       "      <td>1</td>\n",
       "      <td>A1</td>\n",
       "      <td>Self Employed</td>\n",
       "      <td>Gold</td>\n",
       "      <td>2004-01-12</td>\n",
       "      <td>JEWELLERY</td>\n",
       "      <td>485470.80</td>\n",
       "      <td>495414.75</td>\n",
       "      <td>January</td>\n",
       "      <td>1</td>\n",
       "      <td>2004</td>\n",
       "    </tr>\n",
       "    <tr>\n",
       "      <th>1</th>\n",
       "      <td>2</td>\n",
       "      <td>A1</td>\n",
       "      <td>Self Employed</td>\n",
       "      <td>Gold</td>\n",
       "      <td>2004-01-03</td>\n",
       "      <td>FUEL</td>\n",
       "      <td>410556.13</td>\n",
       "      <td>245899.02</td>\n",
       "      <td>January</td>\n",
       "      <td>1</td>\n",
       "      <td>2004</td>\n",
       "    </tr>\n",
       "    <tr>\n",
       "      <th>2</th>\n",
       "      <td>3</td>\n",
       "      <td>A1</td>\n",
       "      <td>Self Employed</td>\n",
       "      <td>Gold</td>\n",
       "      <td>2004-01-15</td>\n",
       "      <td>CLOTHES</td>\n",
       "      <td>23740.46</td>\n",
       "      <td>259490.06</td>\n",
       "      <td>January</td>\n",
       "      <td>1</td>\n",
       "      <td>2004</td>\n",
       "    </tr>\n",
       "    <tr>\n",
       "      <th>3</th>\n",
       "      <td>4</td>\n",
       "      <td>A1</td>\n",
       "      <td>Self Employed</td>\n",
       "      <td>Gold</td>\n",
       "      <td>2004-01-25</td>\n",
       "      <td>FOOD</td>\n",
       "      <td>484342.47</td>\n",
       "      <td>437555.12</td>\n",
       "      <td>January</td>\n",
       "      <td>1</td>\n",
       "      <td>2004</td>\n",
       "    </tr>\n",
       "    <tr>\n",
       "      <th>4</th>\n",
       "      <td>5</td>\n",
       "      <td>A1</td>\n",
       "      <td>Self Employed</td>\n",
       "      <td>Gold</td>\n",
       "      <td>2005-01-17</td>\n",
       "      <td>CAMERA</td>\n",
       "      <td>369694.07</td>\n",
       "      <td>165972.88</td>\n",
       "      <td>January</td>\n",
       "      <td>1</td>\n",
       "      <td>2005</td>\n",
       "    </tr>\n",
       "  </tbody>\n",
       "</table>\n",
       "</div>"
      ],
      "text/plain": [
       "   Sl No: Customer        Segment Product       Date       Type  Amount spent  \\\n",
       "0       1       A1  Self Employed    Gold 2004-01-12  JEWELLERY     485470.80   \n",
       "1       2       A1  Self Employed    Gold 2004-01-03       FUEL     410556.13   \n",
       "2       3       A1  Self Employed    Gold 2004-01-15    CLOTHES      23740.46   \n",
       "3       4       A1  Self Employed    Gold 2004-01-25       FOOD     484342.47   \n",
       "4       5       A1  Self Employed    Gold 2005-01-17     CAMERA     369694.07   \n",
       "\n",
       "   Amount repaid    Month  Order_Month  Year  \n",
       "0      495414.75  January            1  2004  \n",
       "1      245899.02  January            1  2004  \n",
       "2      259490.06  January            1  2004  \n",
       "3      437555.12  January            1  2004  \n",
       "4      165972.88  January            1  2005  "
      ]
     },
     "execution_count": 12,
     "metadata": {},
     "output_type": "execute_result"
    }
   ],
   "source": [
    "df.head()"
   ]
  },
  {
   "cell_type": "markdown",
   "id": "4ebdef24",
   "metadata": {},
   "source": [
    "2. Conduct a segment-wise analysis of expenditure and repayment by the customers across the years."
   ]
  },
  {
   "cell_type": "code",
   "execution_count": 13,
   "id": "b6a43ff9",
   "metadata": {},
   "outputs": [],
   "source": [
    "segment_wise_analysis = df.pivot_table(index = ['Year', 'Segment'],values = ['Amount spent','Amount repaid',],aggfunc = \"mean\")"
   ]
  },
  {
   "cell_type": "markdown",
   "id": "39e6940d",
   "metadata": {},
   "source": [
    "**Inferences**\n",
    " \n",
    " Across the years we can see that during the year 2004-05 customer i.e Normal Salary & Salaried_Pvt have paid less then what they had spent, where in 2006 Salaried_PVT customer has paid less then what they have spent."
   ]
  },
  {
   "cell_type": "markdown",
   "id": "dda723b8",
   "metadata": {},
   "source": [
    "3. What’s your take on the movement of repayment behaviour of the customers over the years in consideration?"
   ]
  },
  {
   "cell_type": "code",
   "execution_count": 14,
   "id": "77f8f057",
   "metadata": {},
   "outputs": [],
   "source": [
    "repay_analysis = df.pivot_table(index= ['Year'], values = ['Amount repaid'],aggfunc = 'mean')"
   ]
  },
  {
   "cell_type": "code",
   "execution_count": 15,
   "id": "6668680a",
   "metadata": {},
   "outputs": [
    {
     "data": {
      "text/html": [
       "<div>\n",
       "<style scoped>\n",
       "    .dataframe tbody tr th:only-of-type {\n",
       "        vertical-align: middle;\n",
       "    }\n",
       "\n",
       "    .dataframe tbody tr th {\n",
       "        vertical-align: top;\n",
       "    }\n",
       "\n",
       "    .dataframe thead th {\n",
       "        text-align: right;\n",
       "    }\n",
       "</style>\n",
       "<table border=\"1\" class=\"dataframe\">\n",
       "  <thead>\n",
       "    <tr style=\"text-align: right;\">\n",
       "      <th></th>\n",
       "      <th>Amount repaid</th>\n",
       "    </tr>\n",
       "    <tr>\n",
       "      <th>Year</th>\n",
       "      <th></th>\n",
       "    </tr>\n",
       "  </thead>\n",
       "  <tbody>\n",
       "    <tr>\n",
       "      <th>2004</th>\n",
       "      <td>247399.368067</td>\n",
       "    </tr>\n",
       "    <tr>\n",
       "      <th>2005</th>\n",
       "      <td>246029.434944</td>\n",
       "    </tr>\n",
       "    <tr>\n",
       "      <th>2006</th>\n",
       "      <td>250067.553770</td>\n",
       "    </tr>\n",
       "  </tbody>\n",
       "</table>\n",
       "</div>"
      ],
      "text/plain": [
       "      Amount repaid\n",
       "Year               \n",
       "2004  247399.368067\n",
       "2005  246029.434944\n",
       "2006  250067.553770"
      ]
     },
     "execution_count": 15,
     "metadata": {},
     "output_type": "execute_result"
    }
   ],
   "source": [
    "repay_analysis"
   ]
  },
  {
   "cell_type": "code",
   "execution_count": 16,
   "id": "3d8a2e3f",
   "metadata": {},
   "outputs": [
    {
     "data": {
      "text/plain": [
       "<Axes: xlabel='Year'>"
      ]
     },
     "execution_count": 16,
     "metadata": {},
     "output_type": "execute_result"
    },
    {
     "data": {
      "image/png": "[encoded data removed]",
      "text/plain": [
       "<Figure size 640x480 with 1 Axes>"
      ]
     },
     "metadata": {},
     "output_type": "display_data"
    }
   ],
   "source": [
    "repay_analysis.plot(kind = 'bar')"
   ]
  },
  {
   "cell_type": "markdown",
   "id": "61ee252a",
   "metadata": {},
   "source": [
    "**Inferences**\n",
    "\n",
    "They seem to be on the same page"
   ]
  },
  {
   "cell_type": "markdown",
   "id": "8902762d",
   "metadata": {},
   "source": [
    "4. What kind of purchase of a good or service has been spend by the customers the most on in the year 2004?"
   ]
  },
  {
   "cell_type": "code",
   "execution_count": 17,
   "id": "e4534713",
   "metadata": {},
   "outputs": [],
   "source": [
    "purchase_type_analysis = df[df['Year']==2004].pivot_table(index = ['Type'],columns = ['Year'], values = ['Amount spent'], aggfunc = 'mean')"
   ]
  },
  {
   "cell_type": "code",
   "execution_count": 18,
   "id": "65080e3f",
   "metadata": {},
   "outputs": [
    {
     "data": {
      "text/html": [
       "<div>\n",
       "<style scoped>\n",
       "    .dataframe tbody tr th:only-of-type {\n",
       "        vertical-align: middle;\n",
       "    }\n",
       "\n",
       "    .dataframe tbody tr th {\n",
       "        vertical-align: top;\n",
       "    }\n",
       "\n",
       "    .dataframe thead tr th {\n",
       "        text-align: left;\n",
       "    }\n",
       "\n",
       "    .dataframe thead tr:last-of-type th {\n",
       "        text-align: right;\n",
       "    }\n",
       "</style>\n",
       "<table border=\"1\" class=\"dataframe\">\n",
       "  <thead>\n",
       "    <tr>\n",
       "      <th></th>\n",
       "      <th>Amount spent</th>\n",
       "    </tr>\n",
       "    <tr>\n",
       "      <th>Year</th>\n",
       "      <th>2004</th>\n",
       "    </tr>\n",
       "    <tr>\n",
       "      <th>Type</th>\n",
       "      <th></th>\n",
       "    </tr>\n",
       "  </thead>\n",
       "  <tbody>\n",
       "    <tr>\n",
       "      <th>AIR TICKET</th>\n",
       "      <td>239168.988286</td>\n",
       "    </tr>\n",
       "    <tr>\n",
       "      <th>AUTO</th>\n",
       "      <td>279040.440000</td>\n",
       "    </tr>\n",
       "    <tr>\n",
       "      <th>BIKE</th>\n",
       "      <td>220155.557500</td>\n",
       "    </tr>\n",
       "    <tr>\n",
       "      <th>BUS TICKET</th>\n",
       "      <td>275080.493529</td>\n",
       "    </tr>\n",
       "    <tr>\n",
       "      <th>CAMERA</th>\n",
       "      <td>243205.273077</td>\n",
       "    </tr>\n",
       "    <tr>\n",
       "      <th>CAR</th>\n",
       "      <td>247000.628571</td>\n",
       "    </tr>\n",
       "    <tr>\n",
       "      <th>CLOTHES</th>\n",
       "      <td>245345.212857</td>\n",
       "    </tr>\n",
       "    <tr>\n",
       "      <th>FOOD</th>\n",
       "      <td>255914.831250</td>\n",
       "    </tr>\n",
       "    <tr>\n",
       "      <th>FUEL</th>\n",
       "      <td>248135.657200</td>\n",
       "    </tr>\n",
       "    <tr>\n",
       "      <th>JEWELLERY</th>\n",
       "      <td>282222.023913</td>\n",
       "    </tr>\n",
       "    <tr>\n",
       "      <th>MOVIE TICKET</th>\n",
       "      <td>274981.543000</td>\n",
       "    </tr>\n",
       "    <tr>\n",
       "      <th>RENTAL</th>\n",
       "      <td>227515.298182</td>\n",
       "    </tr>\n",
       "    <tr>\n",
       "      <th>SANDALS</th>\n",
       "      <td>179006.923333</td>\n",
       "    </tr>\n",
       "    <tr>\n",
       "      <th>SHOPPING</th>\n",
       "      <td>255467.251591</td>\n",
       "    </tr>\n",
       "    <tr>\n",
       "      <th>TRAIN TICKET</th>\n",
       "      <td>230876.174545</td>\n",
       "    </tr>\n",
       "  </tbody>\n",
       "</table>\n",
       "</div>"
      ],
      "text/plain": [
       "               Amount spent\n",
       "Year                   2004\n",
       "Type                       \n",
       "AIR TICKET    239168.988286\n",
       "AUTO          279040.440000\n",
       "BIKE          220155.557500\n",
       "BUS TICKET    275080.493529\n",
       "CAMERA        243205.273077\n",
       "CAR           247000.628571\n",
       "CLOTHES       245345.212857\n",
       "FOOD          255914.831250\n",
       "FUEL          248135.657200\n",
       "JEWELLERY     282222.023913\n",
       "MOVIE TICKET  274981.543000\n",
       "RENTAL        227515.298182\n",
       "SANDALS       179006.923333\n",
       "SHOPPING      255467.251591\n",
       "TRAIN TICKET  230876.174545"
      ]
     },
     "execution_count": 18,
     "metadata": {},
     "output_type": "execute_result"
    }
   ],
   "source": [
    "purchase_type_analysis"
   ]
  },
  {
   "cell_type": "code",
   "execution_count": 19,
   "id": "9eb7d4e5",
   "metadata": {},
   "outputs": [
    {
     "data": {
      "text/plain": [
       "<Axes: xlabel='Type'>"
      ]
     },
     "execution_count": 19,
     "metadata": {},
     "output_type": "execute_result"
    },
    {
     "data": {
      "image/png": "[encoded data removed]",
      "text/plain": [
       "<Figure size 640x480 with 1 Axes>"
      ]
     },
     "metadata": {},
     "output_type": "display_data"
    }
   ],
   "source": [
    "purchase_type_analysis['Amount spent'].sort_values(by = 2004, ascending = False).plot(kind = 'bar')"
   ]
  },
  {
   "cell_type": "markdown",
   "id": "a471644a",
   "metadata": {},
   "source": [
    "**Inferences**\n",
    "\n",
    "It can be seen that JEWELLERY TYPE is the most purchased Goods and Services in 2004"
   ]
  },
  {
   "cell_type": "markdown",
   "id": "fd5d5081",
   "metadata": {},
   "source": [
    "5. What kind of credit card has been used the most on an average to make purchases in the year 2006?"
   ]
  },
  {
   "cell_type": "code",
   "execution_count": 20,
   "id": "7fc36ff8",
   "metadata": {},
   "outputs": [
    {
     "data": {
      "text/plain": [
       "Product\n",
       "Platinum    242931.743010\n",
       "Silver      240362.735574\n",
       "Gold        236595.995701\n",
       "Name: Amount spent, dtype: float64"
      ]
     },
     "execution_count": 20,
     "metadata": {},
     "output_type": "execute_result"
    }
   ],
   "source": [
    "df[df['Year']==2006].groupby('Product')['Amount spent'].mean().sort_values(ascending = False)"
   ]
  },
  {
   "cell_type": "code",
   "execution_count": 21,
   "id": "c8153108",
   "metadata": {},
   "outputs": [
    {
     "data": {
      "image/png": "[encoded data removed]",
      "text/plain": [
       "<Figure size 640x480 with 1 Axes>"
      ]
     },
     "metadata": {},
     "output_type": "display_data"
    }
   ],
   "source": [
    "df[df['Year']==2006].groupby('Product')['Amount spent'].mean().sort_values(ascending = False).plot(kind = 'bar');"
   ]
  },
  {
   "cell_type": "markdown",
   "id": "23a206c7",
   "metadata": {},
   "source": [
    "**Inferences**\n",
    "\n",
    "Amoung the 3 Credit Card Products, \"Platinum\" is the most used Credit Card."
   ]
  },
  {
   "cell_type": "code",
   "execution_count": null,
   "id": "6c3d26e2",
   "metadata": {},
   "outputs": [],
   "source": []
  }
 ],
 "metadata": {
  "kernelspec": {
   "display_name": "Python 3 (ipykernel)",
   "language": "python",
   "name": "python3"
  },
  "language_info": {
   "codemirror_mode": {
    "name": "ipython",
    "version": 3
   },
   "file_extension": ".py",
   "mimetype": "text/x-python",
   "name": "python",
   "nbconvert_exporter": "python",
   "pygments_lexer": "ipython3",
   "version": "3.9.16"
  }
 },
 "nbformat": 4,
 "nbformat_minor": 5
}
